{
  "nbformat": 4,
  "nbformat_minor": 0,
  "metadata": {
    "colab": {
      "private_outputs": true,
      "provenance": []
    },
    "kernelspec": {
      "name": "python3",
      "display_name": "Python 3"
    },
    "language_info": {
      "name": "python"
    }
  },
  "cells": [
    {
      "cell_type": "code",
      "execution_count": null,
      "metadata": {
        "id": "TT1F1XKYHzmp"
      },
      "outputs": [],
      "source": [
        " ! pip install -q kaggle"
      ]
    },
    {
      "cell_type": "code",
      "source": [
        "from google.colab import files"
      ],
      "metadata": {
        "id": "GpfiHnX3Pdfn"
      },
      "execution_count": null,
      "outputs": []
    },
    {
      "cell_type": "code",
      "source": [
        "files.upload()"
      ],
      "metadata": {
        "id": "waogG6PLPjQ5"
      },
      "execution_count": null,
      "outputs": []
    },
    {
      "cell_type": "code",
      "source": [
        " ! mkdir ~/.kaggle"
      ],
      "metadata": {
        "id": "KJABRRUiPmAV"
      },
      "execution_count": null,
      "outputs": []
    },
    {
      "cell_type": "code",
      "source": [
        "! cp kaggle.json ~/.kaggle/\n",
        "! chmod 600 ~/.kaggle/kaggle.json"
      ],
      "metadata": {
        "id": "yB0-iWOOP03a"
      },
      "execution_count": null,
      "outputs": []
    },
    {
      "cell_type": "code",
      "source": [
        " ! kaggle datasets list"
      ],
      "metadata": {
        "id": "ZNRWzZ4rQBqX"
      },
      "execution_count": null,
      "outputs": []
    },
    {
      "cell_type": "code",
      "source": [
        "! kaggle competitions download -c 'kaggle datasets download -d hamzaboulahia/hardfakevsrealfaces'"
      ],
      "metadata": {
        "id": "3G3ggoqjQGPG"
      },
      "execution_count": null,
      "outputs": []
    },
    {
      "cell_type": "code",
      "source": [
        "! mkdir train"
      ],
      "metadata": {
        "id": "HkMWLiuuRm75"
      },
      "execution_count": null,
      "outputs": []
    },
    {
      "cell_type": "code",
      "source": [
        "! unzip archive.zip -d train"
      ],
      "metadata": {
        "id": "0wS973F7RpSk"
      },
      "execution_count": null,
      "outputs": []
    },
    {
      "cell_type": "markdown",
      "source": [
        "# New Section"
      ],
      "metadata": {
        "id": "zGCU9IUkbhZU"
      }
    },
    {
      "cell_type": "code",
      "source": [
        "from PIL import Image\n",
        "from sklearn.model_selection import train_test_split\n",
        "from tensorflow.keras.applications import MobileNetV2\n",
        "from tensorflow.keras.layers import Dense, GlobalAveragePooling2D\n",
        "from tensorflow.keras.models import Model\n",
        "from tensorflow.keras.optimizers import Adam\n",
        "from tensorflow.keras.metrics import AUC, Precision, Recall, TruePositives, TrueNegatives, FalsePositives, FalseNegatives\n",
        "from tensorflow.keras.utils import to_categorical\n",
        "import os\n",
        "import numpy as np\n",
        "\n"
      ],
      "metadata": {
        "id": "hHv74OunSjS-"
      },
      "execution_count": null,
      "outputs": []
    },
    {
      "cell_type": "code",
      "source": [
        "dataset_directory = '/content/train'\n",
        "\n",
        "# Load images and labels\n",
        "all_images = []\n",
        "all_labels = []"
      ],
      "metadata": {
        "id": "XawUKJ1XSuxo"
      },
      "execution_count": null,
      "outputs": []
    },
    {
      "cell_type": "code",
      "source": [
        "for label in ['real', 'fake']:\n",
        "    label_directory = os.path.join(dataset_directory, label)\n",
        "\n",
        "    # Get a list of all image filenames in the subdirectory\n",
        "    image_files = os.listdir(label_directory)\n",
        "\n",
        "    for image_file in image_files:\n",
        "        # Load image from subdirectory\n",
        "        img_path = os.path.join(label_directory, image_file)\n",
        "        img = Image.open(img_path).resize([128, 128])\n",
        "        img = np.array(img).astype(np.float32)\n",
        "        all_images.append(img / 255.0)\n",
        "\n",
        "        # Assign label based on subdirectory\n",
        "        if label == 'real':\n",
        "            all_labels.append(0)\n",
        "        elif label == 'fake':\n",
        "            all_labels.append(1)\n"
      ],
      "metadata": {
        "id": "H9muFMo-S1Fy"
      },
      "execution_count": null,
      "outputs": []
    },
    {
      "cell_type": "code",
      "source": [
        "all_images = np.array(all_images)\n",
        "all_labels = np.array(all_labels)\n",
        "all_images.shape"
      ],
      "metadata": {
        "id": "PenU_JBxTPgB"
      },
      "execution_count": null,
      "outputs": []
    },
    {
      "cell_type": "code",
      "source": [
        "X_train, X_test, y_train, y_test = train_test_split(all_images, all_labels, test_size=0.2, random_state=42)"
      ],
      "metadata": {
        "id": "ssl4yVT0TSQm"
      },
      "execution_count": null,
      "outputs": []
    },
    {
      "cell_type": "code",
      "source": [
        "from huggingface_hub import from_pretrained_keras\n",
        "\n",
        "reloaded_model = from_pretrained_keras('Emmawang/mobilenet_v2_fake_image_detection')"
      ],
      "metadata": {
        "id": "vA3OU4FbTWBX"
      },
      "execution_count": null,
      "outputs": []
    },
    {
      "cell_type": "code",
      "source": [
        "reloaded_model.compile(optimizer='adam', loss='binary_crossentropy', metrics=['accuracy', 'AUC', 'Precision', 'Recall', 'TruePositives', 'TrueNegatives', 'FalsePositives', 'FalseNegatives'])\n",
        "history1 = reloaded_model.fit(X_train, y_train, epochs=10, validation_data=(X_test, y_test))"
      ],
      "metadata": {
        "id": "UjIzOBpKTi5r"
      },
      "execution_count": null,
      "outputs": []
    },
    {
      "cell_type": "code",
      "source": [
        "from tensorflow.keras.optimizers import Adam\n",
        "opt = Adam(learning_rate=0.0001)\n",
        "\n",
        "reloaded_model.compile(optimizer=opt, loss='binary_crossentropy', metrics=['accuracy', 'AUC', 'Precision', 'Recall', 'TruePositives', 'TrueNegatives', 'FalsePositives', 'FalseNegatives'])\n",
        "history2 = reloaded_model.fit(X_train, y_train, epochs=10, validation_data=(X_test, y_test))"
      ],
      "metadata": {
        "id": "BirIxmchXUSM"
      },
      "execution_count": null,
      "outputs": []
    },
    {
      "cell_type": "code",
      "source": [
        "# Assume 'model' is your trained Keras model\n",
        "reloaded_model.save('/content/myModels/myModel.h5')\n"
      ],
      "metadata": {
        "id": "YIkJo3YtdpwI"
      },
      "execution_count": null,
      "outputs": []
    },
    {
      "cell_type": "code",
      "source": [
        "from PIL import Image\n",
        "import numpy as np\n",
        "\n",
        "# Load and preprocess the image\n",
        "image_path = '/content/aigen3.jpg'  # Replace with the path to your image\n",
        "img = Image.open(image_path).resize([128, 128])\n",
        "img_array = np.array(img).astype(np.float32) / 255.0\n"
      ],
      "metadata": {
        "id": "9hsNrGe_pnw3"
      },
      "execution_count": null,
      "outputs": []
    },
    {
      "cell_type": "code",
      "source": [
        "from tensorflow.keras.models import load_model\n",
        "\n",
        "reloaded_model = load_model('/content/myModels/myModel.h5')\n",
        "\n",
        "\n",
        "img_array = np.expand_dims(img_array, axis=0)\n",
        "prediction = reloaded_model.predict(img_array)\n"
      ],
      "metadata": {
        "id": "feCP9rmpqADY"
      },
      "execution_count": null,
      "outputs": []
    },
    {
      "cell_type": "markdown",
      "source": [
        "# New Section"
      ],
      "metadata": {
        "id": "Vf11VU1vbWIn"
      }
    },
    {
      "cell_type": "code",
      "source": [
        "from keras.preprocessing import image\n",
        "from keras.applications.mobilenet_v2 import preprocess_input, decode_predictions\n",
        "import numpy as np\n",
        "\n",
        "# Load the pre-trained model\n",
        "model = load_model('myModel.h5')\n",
        "\n",
        "# Load and preprocess the image\n",
        "img_path = '/content/human.webp'\n",
        "img = image.load_img(img_path, target_size=(128, 128))\n",
        "img_array = image.img_to_array(img)\n",
        "img_array = np.expand_dims(img_array, axis=0)\n",
        "img_array = preprocess_input(img_array)\n",
        "\n",
        "# Example: Make predictions on the preprocessed image\n",
        "predictions = model.predict(img_array)\n",
        "\n",
        "# Interpret the result\n",
        "binary_prediction = (predictions > 0.5).astype(int)\n",
        "print(\"Predicted class:\", binary_prediction[0])\n",
        "\n"
      ],
      "metadata": {
        "id": "heyoWpyzsiBu"
      },
      "execution_count": null,
      "outputs": []
    }
  ]
}